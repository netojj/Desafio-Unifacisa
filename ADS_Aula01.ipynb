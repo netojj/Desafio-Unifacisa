{
  "nbformat": 4,
  "nbformat_minor": 0,
  "metadata": {
    "colab": {
      "provenance": [],
      "authorship_tag": "ABX9TyNGPJ7h+8YE1iGOzB7TxAFq",
      "include_colab_link": true
    },
    "kernelspec": {
      "name": "python3",
      "display_name": "Python 3"
    },
    "language_info": {
      "name": "python"
    }
  },
  "cells": [
    {
      "cell_type": "markdown",
      "metadata": {
        "id": "view-in-github",
        "colab_type": "text"
      },
      "source": [
        "<a href=\"https://colab.research.google.com/github/netojj/Desafio-Unifacisa/blob/main/ADS_Aula01.ipynb\" target=\"_parent\"><img src=\"https://colab.research.google.com/assets/colab-badge.svg\" alt=\"Open In Colab\"/></a>"
      ]
    },
    {
      "cell_type": "markdown",
      "source": [
        "**UNIFACISA - ADS** </br>\n",
        "Aluno: *José Jailton dos Santos Medeiros Neto* - Data: 20/02/2025"
      ],
      "metadata": {
        "id": "oVAZgktuVDBp"
      }
    },
    {
      "cell_type": "code",
      "execution_count": null,
      "metadata": {
        "id": "akoF0E95UrcT"
      },
      "outputs": [],
      "source": [
        "a = 100\n",
        "b = 350\n",
        "c = (a * b)"
      ]
    },
    {
      "cell_type": "code",
      "source": [
        "print(\"Primeiro Valor:\", a)"
      ],
      "metadata": {
        "colab": {
          "base_uri": "https://localhost:8080/"
        },
        "id": "Ij5CsN6KVlmU",
        "outputId": "55ccd887-307d-426d-80f9-bd90b1edd5fd"
      },
      "execution_count": null,
      "outputs": [
        {
          "output_type": "stream",
          "name": "stdout",
          "text": [
            "Primeiro Valor: 100\n"
          ]
        }
      ]
    },
    {
      "cell_type": "code",
      "source": [
        "print(\"Segundo Valor:\", b)"
      ],
      "metadata": {
        "colab": {
          "base_uri": "https://localhost:8080/"
        },
        "id": "B3n8HlyMVtE8",
        "outputId": "1c187d58-86d5-4fce-ceb6-b42e20433848"
      },
      "execution_count": null,
      "outputs": [
        {
          "output_type": "stream",
          "name": "stdout",
          "text": [
            "Segundo Valor: 350\n"
          ]
        }
      ]
    },
    {
      "cell_type": "code",
      "source": [
        "print(\"Multiplicador:\", c)"
      ],
      "metadata": {
        "colab": {
          "base_uri": "https://localhost:8080/"
        },
        "id": "k9jpFOSZVwIA",
        "outputId": "78ef669c-1a3a-4588-94c3-76b275a6856c"
      },
      "execution_count": null,
      "outputs": [
        {
          "output_type": "stream",
          "name": "stdout",
          "text": [
            "Multiplicador: 35000\n"
          ]
        }
      ]
    },
    {
      "cell_type": "markdown",
      "source": [
        "Aula de Ciência de Dados - Práticas 01"
      ],
      "metadata": {
        "id": "_SaQyjLSWJEq"
      }
    }
  ]
}